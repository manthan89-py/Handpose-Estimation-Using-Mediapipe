{
 "metadata": {
  "language_info": {
   "codemirror_mode": {
    "name": "ipython",
    "version": 3
   },
   "file_extension": ".py",
   "mimetype": "text/x-python",
   "name": "python",
   "nbconvert_exporter": "python",
   "pygments_lexer": "ipython3",
   "version": "3.9.0"
  },
  "orig_nbformat": 2,
  "kernelspec": {
   "name": "pythonjvsc74a57bd0ced60e195f12e36e6fdba7f857f70d1ed57737bc7d0dcdd8cde2d1172ac9e8c0",
   "display_name": "Python 3.9.0  ('.JVS': venv)"
  },
  "metadata": {
   "interpreter": {
    "hash": "ced60e195f12e36e6fdba7f857f70d1ed57737bc7d0dcdd8cde2d1172ac9e8c0"
   }
  }
 },
 "nbformat": 4,
 "nbformat_minor": 2,
 "cells": [
  {
   "source": [
    "### Install And Import Dependencies"
   ],
   "cell_type": "markdown",
   "metadata": {}
  },
  {
   "cell_type": "code",
   "execution_count": 1,
   "metadata": {},
   "outputs": [],
   "source": [
    "# pip install mediapipe opencv-python"
   ]
  },
  {
   "cell_type": "code",
   "execution_count": 2,
   "metadata": {},
   "outputs": [],
   "source": [
    "import mediapipe as mp\n",
    "import cv2\n",
    "import numpy as np\n",
    "import uuid # uniform unique identifier\n",
    "import os"
   ]
  },
  {
   "source": [
    "### Detect Hands"
   ],
   "cell_type": "markdown",
   "metadata": {}
  },
  {
   "cell_type": "code",
   "execution_count": 4,
   "metadata": {},
   "outputs": [],
   "source": [
    "mp_drawing = mp.solutions.drawing_utils\n",
    "mp_hands = mp.solutions.hands"
   ]
  },
  {
   "cell_type": "code",
   "execution_count": 7,
   "metadata": {
    "tags": []
   },
   "outputs": [],
   "source": [
    "with mp_hands.Hands(min_detection_confidence=0.8,min_tracking_confidence=0.5) as hands:\n",
    "    cap = cv2.VideoCapture(0)\n",
    "    while cap.isOpened():\n",
    "        ret , frame = cap.read()\n",
    "\n",
    "        # BGR 2 RGB\n",
    "        image = cv2.cvtColor(frame , cv2.COLOR_BGR2RGB)\n",
    "\n",
    "        # Set Flag\n",
    "        image.flags.writeable = False\n",
    "\n",
    "        # Detection\n",
    "        results = hands.process(image)\n",
    "\n",
    "        # Set Flag\n",
    "        image.flags.writeable = True\n",
    "        \n",
    "        # RGB 2 BGR\n",
    "        image = cv2.cvtColor(image , cv2.COLOR_RGB2BGR)\n",
    "\n",
    "        # Rendering the Result\n",
    "        if results.multi_hand_landmarks:\n",
    "            for num , hand in enumerate(results.multi_hand_landmarks):\n",
    "\n",
    "                mp_drawing.draw_landmarks(image , hand , mp_hands.HAND_CONNECTIONS, mp_drawing.DrawingSpec(color=(121,22,76) , thickness=2 ,circle_radius=4),# (B , G ,R)\n",
    "mp_drawing.DrawingSpec(color=(121,44,250) , thickness=2 , circle_radius=2))\n",
    "        \n",
    "\n",
    "        cv2.imshow('Hand Tracking',image)\n",
    "\n",
    "        if cv2.waitKey(10) & 0xFF == ord('q'):\n",
    "            break\n",
    "\n",
    "cap.release()\n",
    "cv2.destroyAllWindows()"
   ]
  },
  {
   "source": [
    "### Output Images"
   ],
   "cell_type": "markdown",
   "metadata": {}
  },
  {
   "cell_type": "code",
   "execution_count": 8,
   "metadata": {},
   "outputs": [],
   "source": [
    "os.mkdir(\"Output Images\")"
   ]
  },
  {
   "cell_type": "code",
   "execution_count": 9,
   "metadata": {},
   "outputs": [],
   "source": [
    " with mp_hands.Hands(min_detection_confidence=0.8,min_tracking_confidence=0.5) as hands:\n",
    "    cap = cv2.VideoCapture(0)\n",
    "    while cap.isOpened():\n",
    "        ret , frame = cap.read()\n",
    "\n",
    "        # BGR 2 RGB\n",
    "        image = cv2.cvtColor(frame , cv2.COLOR_BGR2RGB)\n",
    "\n",
    "        # Set Flag\n",
    "        image.flags.writeable = False\n",
    "\n",
    "        # Detection\n",
    "        results = hands.process(image)\n",
    "\n",
    "        # Set Flag\n",
    "        image.flags.writeable = True\n",
    "        \n",
    "        # RGB 2 BGR\n",
    "        image = cv2.cvtColor(image , cv2.COLOR_RGB2BGR)\n",
    "\n",
    "        # Rendering the Result\n",
    "        if results.multi_hand_landmarks:\n",
    "            for num , hand in enumerate(results.multi_hand_landmarks):\n",
    "\n",
    "                mp_drawing.draw_landmarks(image , hand , mp_hands.HAND_CONNECTIONS, mp_drawing.DrawingSpec(color=(121,22,76) , thickness=2 ,circle_radius=4),# (B , G ,R)\n",
    "mp_drawing.DrawingSpec(color=(121,44,250) , thickness=2 , circle_radius=2))\n",
    "        \n",
    "        Save Image\n",
    "        cv2.imwrite(\n",
    "            os.path.join(\n",
    "                \"Output Images\",\n",
    "                '{}.jpg'.format(uuid.uuid1())),\n",
    "                image)\n",
    "\n",
    "        cv2.imshow('Hand Tracking',image)\n",
    "\n",
    "        if cv2.waitKey(10) & 0xFF == ord('q'):\n",
    "            break\n",
    "\n",
    "cap.release()\n",
    "cv2.destroyAllWindows()"
   ]
  },
  {
   "cell_type": "code",
   "execution_count": null,
   "metadata": {},
   "outputs": [],
   "source": []
  }
 ]
}